{
 "cells": [
  {
   "cell_type": "markdown",
   "id": "7b70c6df",
   "metadata": {},
   "source": [
    "### 1. Function generate touch point"
   ]
  },
  {
   "cell_type": "code",
   "execution_count": 12,
   "id": "83aed517",
   "metadata": {},
   "outputs": [
    {
     "name": "stdout",
     "output_type": "stream",
     "text": [
      "x=2.05\n",
      "y=2.61\n",
      "radius=0.38\n",
      "y=2.61\n",
      "X=2\n",
      "Y=2\n"
     ]
    },
    {
     "data": {
      "text/html": [
       "<style  type=\"text/css\" >\n",
       "#T_fc1a5_row0_col0{\n",
       "            background-color:  #b2cad2;\n",
       "            color:  #000000;\n",
       "        }#T_fc1a5_row0_col1{\n",
       "            background-color:  #f2f1f1;\n",
       "            color:  #000000;\n",
       "        }#T_fc1a5_row0_col2{\n",
       "            background-color:  #80a9b6;\n",
       "            color:  #000000;\n",
       "        }#T_fc1a5_row0_col3,#T_fc1a5_row2_col0,#T_fc1a5_row2_col3{\n",
       "            background-color:  #aac5cd;\n",
       "            color:  #000000;\n",
       "        }#T_fc1a5_row1_col0{\n",
       "            background-color:  #ead6d1;\n",
       "            color:  #000000;\n",
       "        }#T_fc1a5_row1_col1{\n",
       "            background-color:  #d48f7d;\n",
       "            color:  #000000;\n",
       "        }#T_fc1a5_row1_col2{\n",
       "            background-color:  #4b879a;\n",
       "            color:  #000000;\n",
       "        }#T_fc1a5_row1_col3{\n",
       "            background-color:  #87aeba;\n",
       "            color:  #000000;\n",
       "        }#T_fc1a5_row2_col1{\n",
       "            background-color:  #c96951;\n",
       "            color:  #000000;\n",
       "        }#T_fc1a5_row2_col2{\n",
       "            background-color:  #3f7f93;\n",
       "            color:  #000000;\n",
       "        }</style><table id=\"T_fc1a5_\" ><thead>    <tr>        <th class=\"blank level0\" ></th>        <th class=\"col_heading level0 col0\" >1</th>        <th class=\"col_heading level0 col1\" >2</th>        <th class=\"col_heading level0 col2\" >3</th>        <th class=\"col_heading level0 col3\" >4</th>    </tr></thead><tbody>\n",
       "                <tr>\n",
       "                        <th id=\"T_fc1a5_level0_row0\" class=\"row_heading level0 row0\" >1</th>\n",
       "                        <td id=\"T_fc1a5_row0_col0\" class=\"data row0 col0\" >128</td>\n",
       "                        <td id=\"T_fc1a5_row0_col1\" class=\"data row0 col1\" >153</td>\n",
       "                        <td id=\"T_fc1a5_row0_col2\" class=\"data row0 col2\" >108</td>\n",
       "                        <td id=\"T_fc1a5_row0_col3\" class=\"data row0 col3\" >125</td>\n",
       "            </tr>\n",
       "            <tr>\n",
       "                        <th id=\"T_fc1a5_level0_row1\" class=\"row_heading level0 row1\" >2</th>\n",
       "                        <td id=\"T_fc1a5_row1_col0\" class=\"data row1 col0\" >165</td>\n",
       "                        <td id=\"T_fc1a5_row1_col1\" class=\"data row1 col1\" >197</td>\n",
       "                        <td id=\"T_fc1a5_row1_col2\" class=\"data row1 col2\" >87</td>\n",
       "                        <td id=\"T_fc1a5_row1_col3\" class=\"data row1 col3\" >111</td>\n",
       "            </tr>\n",
       "            <tr>\n",
       "                        <th id=\"T_fc1a5_level0_row2\" class=\"row_heading level0 row2\" >3</th>\n",
       "                        <td id=\"T_fc1a5_row2_col0\" class=\"data row2 col0\" >125</td>\n",
       "                        <td id=\"T_fc1a5_row2_col1\" class=\"data row2 col1\" >214</td>\n",
       "                        <td id=\"T_fc1a5_row2_col2\" class=\"data row2 col2\" >82</td>\n",
       "                        <td id=\"T_fc1a5_row2_col3\" class=\"data row2 col3\" >125</td>\n",
       "            </tr>\n",
       "    </tbody></table>"
      ],
      "text/plain": [
       "<pandas.io.formats.style.Styler at 0x1bed03fa2e0>"
      ]
     },
     "execution_count": 12,
     "metadata": {},
     "output_type": "execute_result"
    }
   ],
   "source": [
    "import pandas as pd\n",
    "import numpy as np\n",
    "import pandas as pd\n",
    "import numpy as np\n",
    "import seaborn as sns\n",
    "import pickle\n",
    "import math\n",
    "def touch_generate(xMin = 1,xMax  = 4, yMin = 1, yMax = 3, fNorm = 128, eSilence = 3,\n",
    "                   radiusMin = 0.2, radiusMax = 1.0, F = np.random.uniform(60.0, 128.0) , kRatio1 = 20, kRatio2 = 3):\n",
    "    cols = []\n",
    "    rows = []\n",
    "    for i in range(xMin, xMax+1):\n",
    "        cols.append(i)\n",
    "    for j in range(yMin, yMax+1):\n",
    "        rows.append(j)\n",
    "    silence = np.random.normal(fNorm, eSilence, size = [yMax-yMin + 1, xMax-xMin + 1])\n",
    "    for i in range(0,len(silence)):\n",
    "        for j in range(0,len(silence[i])):\n",
    "            silence[i][j] = int(silence[i][j])\n",
    "    df = pd.DataFrame(silence, index = rows, columns = cols)\n",
    "    RADIUS = round(np.random.uniform(radiusMin, radiusMax),2)\n",
    "    radius = math.ceil(RADIUS)\n",
    "    x = round(np.random.uniform((xMax-xMin+1)/2,(xMax-xMin+1)/2+0.99),2)     #x-coord touch point (horizontal)\n",
    "    y = round(np.random.uniform((yMax-yMin)/2+1,(yMax-yMin)/2+1.99),2)      #y-coord touch point (vertical)     \n",
    "    X = int(x)      #x-coord touch point (horizontal)\n",
    "    Y = int(y)      #y-coord touch point (vertical)     \n",
    "    for j in range(Y-radius, Y+radius+1):\n",
    "        for i in range(X-radius, X+1):\n",
    "            if (abs(X-i)+abs(Y-j))<2*radius:\n",
    "                \n",
    "                if i<xMin:\n",
    "                    i = xMin\n",
    "                if j<yMin:\n",
    "                    j = yMin\n",
    "                if j>yMax:\n",
    "                    j = yMax\n",
    "                dist = np.sqrt(sum(pow(a-b, 2) for a, b in zip([i, j], [x, y])))\n",
    "                df.loc[j,i] = int(fNorm + abs(np.random.normal(fNorm*math.exp(-dist),RADIUS)))\n",
    "                if df.loc[j,i]<0:\n",
    "                    df.loc[j,i] = 0\n",
    "    for j in range(Y-radius, Y+radius+1):\n",
    "        for i in range(X+1, X+radius+2):\n",
    "            if (abs(X-i)+abs(Y-j))<2*radius+1:\n",
    "                if i>xMax:\n",
    "                    i = xMax\n",
    "                if j<yMin:\n",
    "                    j = yMin\n",
    "                if j>yMax:\n",
    "                    j = yMax\n",
    "                dist = np.sqrt(sum(pow(a-b, 2) for a, b in zip([i, j], [x, y])))\n",
    "                df.loc[j,i] = int(fNorm - abs(np.random.normal(fNorm*math.exp(-dist),RADIUS)))\n",
    "                if df.loc[j,i]<0:\n",
    "                    df.loc[j,i] = 0     \n",
    "    pd.options.display.float_format = '{:,.0f}'.format\n",
    "    df_numberTouch = df.copy()\n",
    "    num = 1\n",
    "    for i in rows:\n",
    "        for j in cols:\n",
    "            df_numberTouch.loc[i,j] = num\n",
    "            num +=1\n",
    "    numberTouch = df_numberTouch.loc[Y,X]\n",
    "    return df, x, y, RADIUS\n",
    "df, x, y, RADIUS = touch_generate()\n",
    "print('x={}'.format(x))\n",
    "print('y={}'.format(y))\n",
    "print('radius={}'.format(RADIUS))\n",
    "print('y={}'.format(y))\n",
    "print('X={}'.format(int(x)))\n",
    "print('Y={}'.format(int(y)))\n",
    "cmap = sns.diverging_palette(220, 20, as_cmap=True)\n",
    "df.style.format('{:.0f}').background_gradient(cmap=cmap, axis = None, high = 0.07)"
   ]
  },
  {
   "cell_type": "code",
   "execution_count": 13,
   "id": "297b52a4",
   "metadata": {},
   "outputs": [],
   "source": [
    "df_numpy = df.to_numpy()\n",
    "ROWS = np.array(df_numpy[0],ndmin=1)   #values on rows\n",
    "for i in range(1,len(df)):\n",
    "    ROWS = np.append(ROWS,df_numpy[i],axis = 0)"
   ]
  },
  {
   "cell_type": "markdown",
   "id": "33849304",
   "metadata": {},
   "source": [
    "### 2. Generate train and test datasets"
   ]
  },
  {
   "cell_type": "code",
   "execution_count": 15,
   "id": "f95fb34b",
   "metadata": {},
   "outputs": [],
   "source": [
    "length_train = 15000   #size train dataset\n",
    "length_test = 5000    #size test dataset\n",
    "df_train = pd.DataFrame(columns = ['value','xy'])\n",
    "for i in range(0,length_train):\n",
    "    df, x, y, RADIUS  = touch_generate()\n",
    "    df_numpy = df.to_numpy()\n",
    "    ROWS = np.array(df_numpy[0],ndmin=1)\n",
    "    for i in range(1,len(df)):\n",
    "        ROWS = np.append(ROWS,df_numpy[i],axis = 0)\n",
    "    df_train = df_train.append({'value':ROWS, 'xy':np.array([x,y])},ignore_index=True)\n",
    "df_test = pd.DataFrame(columns = ['value','xy'])\n",
    "for i in range(0,length_test):\n",
    "    df, x, y, RADIUS  = touch_generate()\n",
    "    df_numpy = df.to_numpy()\n",
    "    ROWS = np.array(df_numpy[0],ndmin=1)\n",
    "    for i in range(1,len(df)):\n",
    "        ROWS = np.append(ROWS,df_numpy[i],axis = 0)\n",
    "    df_test = df_test.append({'value':ROWS,'xy':np.array([x,y])},ignore_index=True)"
   ]
  },
  {
   "cell_type": "markdown",
   "id": "102e4282",
   "metadata": {},
   "source": [
    "### 3. Save train and test datasets"
   ]
  },
  {
   "cell_type": "code",
   "execution_count": 16,
   "id": "2ca02fa1",
   "metadata": {},
   "outputs": [],
   "source": [
    "with open('df_train.pickle','wb') as file:\n",
    "    pickle.dump(df_train,file)\n",
    "with open('df_test.pickle','wb') as file:\n",
    "    pickle.dump(df_test,file)    "
   ]
  }
 ],
 "metadata": {
  "kernelspec": {
   "display_name": "Python 3",
   "language": "python",
   "name": "python3"
  },
  "language_info": {
   "codemirror_mode": {
    "name": "ipython",
    "version": 3
   },
   "file_extension": ".py",
   "mimetype": "text/x-python",
   "name": "python",
   "nbconvert_exporter": "python",
   "pygments_lexer": "ipython3",
   "version": "3.8.8"
  }
 },
 "nbformat": 4,
 "nbformat_minor": 5
}
