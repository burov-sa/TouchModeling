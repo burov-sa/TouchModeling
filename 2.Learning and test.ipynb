{
 "cells": [
  {
   "cell_type": "markdown",
   "id": "3fa65af0",
   "metadata": {},
   "source": [
    "### 1. Load train datasets"
   ]
  },
  {
   "cell_type": "code",
   "execution_count": 1,
   "id": "d042774f",
   "metadata": {},
   "outputs": [
    {
     "data": {
      "text/html": [
       "<div>\n",
       "<style scoped>\n",
       "    .dataframe tbody tr th:only-of-type {\n",
       "        vertical-align: middle;\n",
       "    }\n",
       "\n",
       "    .dataframe tbody tr th {\n",
       "        vertical-align: top;\n",
       "    }\n",
       "\n",
       "    .dataframe thead th {\n",
       "        text-align: right;\n",
       "    }\n",
       "</style>\n",
       "<table border=\"1\" class=\"dataframe\">\n",
       "  <thead>\n",
       "    <tr style=\"text-align: right;\">\n",
       "      <th></th>\n",
       "      <th>value</th>\n",
       "      <th>xy</th>\n",
       "    </tr>\n",
       "  </thead>\n",
       "  <tbody>\n",
       "    <tr>\n",
       "      <th>0</th>\n",
       "      <td>[129.0, 159.0, 84.0, 127.0, 146.0, 181.0, 18.0...</td>\n",
       "      <td>[2.87, 2.09]</td>\n",
       "    </tr>\n",
       "    <tr>\n",
       "      <th>1</th>\n",
       "      <td>[127.0, 158.0, 91.0, 129.0, 149.0, 186.0, 36.0...</td>\n",
       "      <td>[2.73, 2.23]</td>\n",
       "    </tr>\n",
       "    <tr>\n",
       "      <th>2</th>\n",
       "      <td>[129.0, 145.0, 107.0, 129.0, 146.0, 169.0, 74....</td>\n",
       "      <td>[2.77, 2.83]</td>\n",
       "    </tr>\n",
       "    <tr>\n",
       "      <th>3</th>\n",
       "      <td>[125.0, 144.0, 108.0, 128.0, 144.0, 165.0, 74....</td>\n",
       "      <td>[2.86, 2.87]</td>\n",
       "    </tr>\n",
       "    <tr>\n",
       "      <th>4</th>\n",
       "      <td>[132.0, 153.0, 101.0, 129.0, 152.0, 189.0, 62....</td>\n",
       "      <td>[2.54, 2.5]</td>\n",
       "    </tr>\n",
       "    <tr>\n",
       "      <th>...</th>\n",
       "      <td>...</td>\n",
       "      <td>...</td>\n",
       "    </tr>\n",
       "    <tr>\n",
       "      <th>14995</th>\n",
       "      <td>[130.0, 150.0, 104.0, 131.0, 153.0, 183.0, 70....</td>\n",
       "      <td>[2.52, 2.64]</td>\n",
       "    </tr>\n",
       "    <tr>\n",
       "      <th>14996</th>\n",
       "      <td>[128.0, 150.0, 99.0, 128.0, 147.0, 174.0, 49.0...</td>\n",
       "      <td>[2.86, 2.46]</td>\n",
       "    </tr>\n",
       "    <tr>\n",
       "      <th>14997</th>\n",
       "      <td>[126.0, 172.0, 91.0, 124.0, 165.0, 229.0, 69.0...</td>\n",
       "      <td>[2.23, 2.01]</td>\n",
       "    </tr>\n",
       "    <tr>\n",
       "      <th>14998</th>\n",
       "      <td>[125.0, 151.0, 106.0, 126.0, 154.0, 186.0, 76....</td>\n",
       "      <td>[2.38, 2.7]</td>\n",
       "    </tr>\n",
       "    <tr>\n",
       "      <th>14999</th>\n",
       "      <td>[130.0, 152.0, 102.0, 129.0, 151.0, 182.0, 62....</td>\n",
       "      <td>[2.62, 2.57]</td>\n",
       "    </tr>\n",
       "  </tbody>\n",
       "</table>\n",
       "<p>15000 rows × 2 columns</p>\n",
       "</div>"
      ],
      "text/plain": [
       "                                                   value            xy\n",
       "0      [129.0, 159.0, 84.0, 127.0, 146.0, 181.0, 18.0...  [2.87, 2.09]\n",
       "1      [127.0, 158.0, 91.0, 129.0, 149.0, 186.0, 36.0...  [2.73, 2.23]\n",
       "2      [129.0, 145.0, 107.0, 129.0, 146.0, 169.0, 74....  [2.77, 2.83]\n",
       "3      [125.0, 144.0, 108.0, 128.0, 144.0, 165.0, 74....  [2.86, 2.87]\n",
       "4      [132.0, 153.0, 101.0, 129.0, 152.0, 189.0, 62....   [2.54, 2.5]\n",
       "...                                                  ...           ...\n",
       "14995  [130.0, 150.0, 104.0, 131.0, 153.0, 183.0, 70....  [2.52, 2.64]\n",
       "14996  [128.0, 150.0, 99.0, 128.0, 147.0, 174.0, 49.0...  [2.86, 2.46]\n",
       "14997  [126.0, 172.0, 91.0, 124.0, 165.0, 229.0, 69.0...  [2.23, 2.01]\n",
       "14998  [125.0, 151.0, 106.0, 126.0, 154.0, 186.0, 76....   [2.38, 2.7]\n",
       "14999  [130.0, 152.0, 102.0, 129.0, 151.0, 182.0, 62....  [2.62, 2.57]\n",
       "\n",
       "[15000 rows x 2 columns]"
      ]
     },
     "execution_count": 1,
     "metadata": {},
     "output_type": "execute_result"
    }
   ],
   "source": [
    "import numpy as np\n",
    "from keras.models import Sequential\n",
    "from keras.layers import Dense\n",
    "import tensorflow as tf\n",
    "import pickle\n",
    "from sklearn.metrics import r2_score\n",
    "from keras.models import model_from_json\n",
    "from matplotlib import pyplot as plt\n",
    "with open('df_train.pickle', 'rb') as file:\n",
    "    df_train = pickle.load(file)\n",
    "df_train"
   ]
  },
  {
   "cell_type": "code",
   "execution_count": 2,
   "id": "dc5f4d66",
   "metadata": {},
   "outputs": [],
   "source": [
    "XX = df_train['value']\n",
    "YY = df_train['xy']\n",
    "X = np.array(XX[0],ndmin=2)\n",
    "Y = np.array(YY[0],ndmin=2)\n",
    "for i in range(1,len(XX)):\n",
    "    dx = np.array(XX[i],ndmin=2) \n",
    "    X = np.append(X,dx,axis = 0)\n",
    "    dy = np.array(YY[i],ndmin=2) \n",
    "    Y = np.append(Y,dy,axis = 0)"
   ]
  },
  {
   "cell_type": "markdown",
   "id": "b7708862",
   "metadata": {},
   "source": [
    "### 2. Define and training DNN"
   ]
  },
  {
   "cell_type": "code",
   "execution_count": 3,
   "id": "0e4b4aea",
   "metadata": {},
   "outputs": [
    {
     "name": "stdout",
     "output_type": "stream",
     "text": [
      "Epoch 1/20\n",
      "5000/5000 [==============================] - 6s 1000us/step - loss: 0.0492 - mae: 0.1379\n",
      "Epoch 2/20\n",
      "5000/5000 [==============================] - 5s 957us/step - loss: 0.0102 - mae: 0.0816\n",
      "Epoch 3/20\n",
      "5000/5000 [==============================] - 5s 968us/step - loss: 0.0076 - mae: 0.0704\n",
      "Epoch 4/20\n",
      "5000/5000 [==============================] - 5s 1ms/step - loss: 0.0070 - mae: 0.0675\n",
      "Epoch 5/20\n",
      "5000/5000 [==============================] - 5s 964us/step - loss: 0.0067 - mae: 0.0662\n",
      "Epoch 6/20\n",
      "5000/5000 [==============================] - 5s 965us/step - loss: 0.0063 - mae: 0.0645\n",
      "Epoch 7/20\n",
      "5000/5000 [==============================] - 5s 979us/step - loss: 0.0062 - mae: 0.0640\n",
      "Epoch 8/20\n",
      "5000/5000 [==============================] - 5s 978us/step - loss: 0.0060 - mae: 0.0630\n",
      "Epoch 9/20\n",
      "5000/5000 [==============================] - 5s 1ms/step - loss: 0.0057 - mae: 0.0615\n",
      "Epoch 10/20\n",
      "5000/5000 [==============================] - 5s 978us/step - loss: 0.0056 - mae: 0.0609\n",
      "Epoch 11/20\n",
      "5000/5000 [==============================] - 5s 988us/step - loss: 0.0055 - mae: 0.0606\n",
      "Epoch 12/20\n",
      "5000/5000 [==============================] - 5s 971us/step - loss: 0.0052 - mae: 0.0585\n",
      "Epoch 13/20\n",
      "5000/5000 [==============================] - 5s 974us/step - loss: 0.0051 - mae: 0.0580\n",
      "Epoch 14/20\n",
      "5000/5000 [==============================] - 5s 998us/step - loss: 0.0049 - mae: 0.0569\n",
      "Epoch 15/20\n",
      "5000/5000 [==============================] - 5s 974us/step - loss: 0.0047 - mae: 0.0557\n",
      "Epoch 16/20\n",
      "5000/5000 [==============================] - 5s 1ms/step - loss: 0.0046 - mae: 0.0547\n",
      "Epoch 17/20\n",
      "5000/5000 [==============================] - 5s 977us/step - loss: 0.0044 - mae: 0.0540\n",
      "Epoch 18/20\n",
      "5000/5000 [==============================] - 5s 1ms/step - loss: 0.0043 - mae: 0.0530\n",
      "Epoch 19/20\n",
      "5000/5000 [==============================] - 5s 978us/step - loss: 0.0041 - mae: 0.0517\n",
      "Epoch 20/20\n",
      "5000/5000 [==============================] - 5s 981us/step - loss: 0.0039 - mae: 0.0503\n"
     ]
    },
    {
     "data": {
      "text/plain": [
       "<keras.callbacks.History at 0x281b4b43640>"
      ]
     },
     "execution_count": 3,
     "metadata": {},
     "output_type": "execute_result"
    }
   ],
   "source": [
    "model1 = Sequential([Dense(14, kernel_initializer='normal', activation='relu', input_shape=(12,), name=\"hidden_1\"),\n",
    "    Dense(2, kernel_initializer='normal', name=\"output\")])\n",
    "model1.compile(optimizer='rmsprop', loss='mse', metrics=['mae'])\n",
    "model1.fit(X, Y, batch_size=3, epochs=20)"
   ]
  },
  {
   "cell_type": "markdown",
   "id": "02ac7431",
   "metadata": {},
   "source": [
    "### 3. Test model"
   ]
  },
  {
   "cell_type": "code",
   "execution_count": 4,
   "id": "bbbe0241",
   "metadata": {},
   "outputs": [],
   "source": [
    "with open('df_test.pickle', 'rb') as file:\n",
    "    df_test = pickle.load(file)\n",
    "XX = df_test['value']\n",
    "YY = df_test['xy']\n",
    "X = np.array(XX[0],ndmin=2)\n",
    "Y = np.array(YY[0],ndmin=2)\n",
    "for i in range(1,len(XX)):\n",
    "    dx = np.array(XX[i],ndmin=2) \n",
    "    X = np.append(X,dx,axis = 0)\n",
    "    dy = np.array(YY[i],ndmin=2) \n",
    "    Y = np.append(Y,dy,axis = 0)"
   ]
  },
  {
   "cell_type": "code",
   "execution_count": 5,
   "id": "6ca82a08",
   "metadata": {},
   "outputs": [
    {
     "data": {
      "text/plain": [
       "array([[2.7235377, 2.972447 ],\n",
       "       [3.042646 , 2.23138  ],\n",
       "       [2.1723938, 2.9318736],\n",
       "       ...,\n",
       "       [2.8591943, 2.554686 ],\n",
       "       [2.5321112, 2.8780088],\n",
       "       [2.9785895, 3.04956  ]], dtype=float32)"
      ]
     },
     "execution_count": 5,
     "metadata": {},
     "output_type": "execute_result"
    }
   ],
   "source": [
    "model1.predict(X)"
   ]
  },
  {
   "cell_type": "code",
   "execution_count": 6,
   "id": "32bf7a62",
   "metadata": {},
   "outputs": [],
   "source": [
    "model1_predict = model1.predict(X)"
   ]
  },
  {
   "cell_type": "code",
   "execution_count": 7,
   "id": "c57c6ab0",
   "metadata": {},
   "outputs": [
    {
     "name": "stdout",
     "output_type": "stream",
     "text": [
      "r2_score = 0.9071975975509872\n"
     ]
    }
   ],
   "source": [
    "print('r2_score = {}'.format(r2_score(Y,model1_predict)))"
   ]
  },
  {
   "cell_type": "code",
   "execution_count": 8,
   "id": "06ed8e6e",
   "metadata": {},
   "outputs": [
    {
     "data": {
      "image/png": "[encoded data removed]",
      "text/plain": [
       "<Figure size 432x288 with 1 Axes>"
      ]
     },
     "metadata": {
      "needs_background": "light"
     },
     "output_type": "display_data"
    }
   ],
   "source": [
    "result_test = []\n",
    "for i in range(0,len(model1_predict)):\n",
    "    dist = np.sqrt(sum(pow(a-b, 2) for a, b in zip(model1_predict[i], Y[i])))\n",
    "    result_test.append(dist)\n",
    "bins = np.arange(0, 1, 0.005)\n",
    "plt.xlim(0, 1)\n",
    "plt.hist(result_test, bins=bins)\n",
    "plt.title('Сoordinate error')\n",
    "plt.xlabel('Euclidian distance')\n",
    "plt.ylabel('count')\n",
    "plt.show()"
   ]
  },
  {
   "cell_type": "markdown",
   "id": "6c262e35",
   "metadata": {},
   "source": [
    "### 4. Save model"
   ]
  },
  {
   "cell_type": "code",
   "execution_count": 9,
   "id": "e76ce4ce",
   "metadata": {},
   "outputs": [],
   "source": [
    "model1_json = model1.to_json()\n",
    "with open(\"model1.json\", \"w\") as json_file:\n",
    "    json_file.write(model1_json)"
   ]
  }
 ],
 "metadata": {
  "kernelspec": {
   "display_name": "Python 3",
   "language": "python",
   "name": "python3"
  },
  "language_info": {
   "codemirror_mode": {
    "name": "ipython",
    "version": 3
   },
   "file_extension": ".py",
   "mimetype": "text/x-python",
   "name": "python",
   "nbconvert_exporter": "python",
   "pygments_lexer": "ipython3",
   "version": "3.8.8"
  }
 },
 "nbformat": 4,
 "nbformat_minor": 5
}
