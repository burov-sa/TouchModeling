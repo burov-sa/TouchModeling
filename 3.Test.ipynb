{
 "cells": [
  {
   "cell_type": "code",
   "execution_count": 4,
   "id": "1baa7b5b",
   "metadata": {},
   "outputs": [],
   "source": [
    "import pandas as pd\n",
    "import numpy as np\n",
    "import pickle\n",
    "from keras.models import model_from_json"
   ]
  },
  {
   "cell_type": "markdown",
   "id": "4b6a598d",
   "metadata": {},
   "source": [
    "### 1. Load model"
   ]
  },
  {
   "cell_type": "code",
   "execution_count": 22,
   "id": "7de9800b",
   "metadata": {},
   "outputs": [],
   "source": [
    "jfile = open(\"model1.json\", \"r\")\n",
    "loaded_json = jfile.read()\n",
    "jfile.close()\n",
    "model1 = model_from_json(loaded_json)\n",
    "model1.compile(optimizer='rmsprop', loss='mse', metrics=['mae'])"
   ]
  },
  {
   "cell_type": "markdown",
   "id": "131c95a9",
   "metadata": {},
   "source": [
    "### 2. Load test dataset"
   ]
  },
  {
   "cell_type": "code",
   "execution_count": 6,
   "id": "3c136538",
   "metadata": {},
   "outputs": [
    {
     "data": {
      "text/html": [
       "<div>\n",
       "<style scoped>\n",
       "    .dataframe tbody tr th:only-of-type {\n",
       "        vertical-align: middle;\n",
       "    }\n",
       "\n",
       "    .dataframe tbody tr th {\n",
       "        vertical-align: top;\n",
       "    }\n",
       "\n",
       "    .dataframe thead th {\n",
       "        text-align: right;\n",
       "    }\n",
       "</style>\n",
       "<table border=\"1\" class=\"dataframe\">\n",
       "  <thead>\n",
       "    <tr style=\"text-align: right;\">\n",
       "      <th></th>\n",
       "      <th>value</th>\n",
       "      <th>xy</th>\n",
       "    </tr>\n",
       "  </thead>\n",
       "  <tbody>\n",
       "    <tr>\n",
       "      <th>0</th>\n",
       "      <td>[131.0, 162.0, 125.0, 130.0, 147.0, 186.0, 25....</td>\n",
       "      <td>[2.78, 2.03]</td>\n",
       "    </tr>\n",
       "    <tr>\n",
       "      <th>1</th>\n",
       "      <td>[129.0, 152.0, 127.0, 133.0, 151.0, 187.0, 58....</td>\n",
       "      <td>[2.63, 2.47]</td>\n",
       "    </tr>\n",
       "    <tr>\n",
       "      <th>2</th>\n",
       "      <td>[126.0, 149.0, 125.0, 132.0, 145.0, 170.0, 55....</td>\n",
       "      <td>[2.95, 2.54]</td>\n",
       "    </tr>\n",
       "    <tr>\n",
       "      <th>3</th>\n",
       "      <td>[129.0, 156.0, 125.0, 130.0, 146.0, 181.0, 32....</td>\n",
       "      <td>[2.83, 2.24]</td>\n",
       "    </tr>\n",
       "    <tr>\n",
       "      <th>4</th>\n",
       "      <td>[127.0, 143.0, 130.0, 127.0, 144.0, 165.0, 76....</td>\n",
       "      <td>[2.86, 2.9]</td>\n",
       "    </tr>\n",
       "    <tr>\n",
       "      <th>...</th>\n",
       "      <td>...</td>\n",
       "      <td>...</td>\n",
       "    </tr>\n",
       "    <tr>\n",
       "      <th>995</th>\n",
       "      <td>[124.0, 174.0, 130.0, 129.0, 172.0, 245.0, 78....</td>\n",
       "      <td>[2.07, 2.02]</td>\n",
       "    </tr>\n",
       "    <tr>\n",
       "      <th>996</th>\n",
       "      <td>[125.0, 155.0, 129.0, 127.0, 170.0, 206.0, 85....</td>\n",
       "      <td>[2.02, 2.48]</td>\n",
       "    </tr>\n",
       "    <tr>\n",
       "      <th>997</th>\n",
       "      <td>[130.0, 161.0, 129.0, 126.0, 149.0, 190.0, 38....</td>\n",
       "      <td>[2.7, 2.18]</td>\n",
       "    </tr>\n",
       "    <tr>\n",
       "      <th>998</th>\n",
       "      <td>[126.0, 153.0, 130.0, 128.0, 168.0, 196.0, 88....</td>\n",
       "      <td>[2.01, 2.63]</td>\n",
       "    </tr>\n",
       "    <tr>\n",
       "      <th>999</th>\n",
       "      <td>[128.0, 145.0, 131.0, 129.0, 147.0, 169.0, 74....</td>\n",
       "      <td>[2.72, 2.86]</td>\n",
       "    </tr>\n",
       "  </tbody>\n",
       "</table>\n",
       "<p>1000 rows × 2 columns</p>\n",
       "</div>"
      ],
      "text/plain": [
       "                                                 value            xy\n",
       "0    [131.0, 162.0, 125.0, 130.0, 147.0, 186.0, 25....  [2.78, 2.03]\n",
       "1    [129.0, 152.0, 127.0, 133.0, 151.0, 187.0, 58....  [2.63, 2.47]\n",
       "2    [126.0, 149.0, 125.0, 132.0, 145.0, 170.0, 55....  [2.95, 2.54]\n",
       "3    [129.0, 156.0, 125.0, 130.0, 146.0, 181.0, 32....  [2.83, 2.24]\n",
       "4    [127.0, 143.0, 130.0, 127.0, 144.0, 165.0, 76....   [2.86, 2.9]\n",
       "..                                                 ...           ...\n",
       "995  [124.0, 174.0, 130.0, 129.0, 172.0, 245.0, 78....  [2.07, 2.02]\n",
       "996  [125.0, 155.0, 129.0, 127.0, 170.0, 206.0, 85....  [2.02, 2.48]\n",
       "997  [130.0, 161.0, 129.0, 126.0, 149.0, 190.0, 38....   [2.7, 2.18]\n",
       "998  [126.0, 153.0, 130.0, 128.0, 168.0, 196.0, 88....  [2.01, 2.63]\n",
       "999  [128.0, 145.0, 131.0, 129.0, 147.0, 169.0, 74....  [2.72, 2.86]\n",
       "\n",
       "[1000 rows x 2 columns]"
      ]
     },
     "execution_count": 6,
     "metadata": {},
     "output_type": "execute_result"
    }
   ],
   "source": [
    "with open('df_test.pickle', 'rb') as file:\n",
    "    df_test = pickle.load(file)\n",
    "df_test"
   ]
  },
  {
   "cell_type": "markdown",
   "id": "02701abc",
   "metadata": {},
   "source": [
    "### 3. Test"
   ]
  },
  {
   "cell_type": "code",
   "execution_count": 24,
   "id": "55967505",
   "metadata": {},
   "outputs": [
    {
     "data": {
      "text/plain": [
       "array([[-1.7157596 , -0.25930512]], dtype=float32)"
      ]
     },
     "execution_count": 24,
     "metadata": {},
     "output_type": "execute_result"
    }
   ],
   "source": [
    "for i in range(0,len(df_test)):\n",
    "    df_test.iloc[i,0]=np.array(df_test.iloc[i,0], ndmin=2)\n",
    "model1.predict(df_test.value[0])"
   ]
  },
  {
   "cell_type": "code",
   "execution_count": null,
   "id": "b33a3716",
   "metadata": {},
   "outputs": [],
   "source": [
    "target_predict1 = forest1.predict(x_test)\n",
    "target_predict2 = forest2.predict(x_test)\n",
    "print(r2_score(y_test2, target_predict1))\n",
    "print(r2_score(y_test2, target_predict2))"
   ]
  }
 ],
 "metadata": {
  "kernelspec": {
   "display_name": "Python 3",
   "language": "python",
   "name": "python3"
  },
  "language_info": {
   "codemirror_mode": {
    "name": "ipython",
    "version": 3
   },
   "file_extension": ".py",
   "mimetype": "text/x-python",
   "name": "python",
   "nbconvert_exporter": "python",
   "pygments_lexer": "ipython3",
   "version": "3.8.8"
  }
 },
 "nbformat": 4,
 "nbformat_minor": 5
}
